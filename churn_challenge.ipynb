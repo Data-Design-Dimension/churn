{
 "cells": [
  {
   "cell_type": "markdown",
   "metadata": {},
   "source": [
    "# Holiday Community App-Building Challenge, Plotly Dash Python\n",
    "\n",
    "__Author:__ Kathryn Hurchla for [Data Design Dimension](https://dadeda.design)\n",
    "__Date:__ Dec 2022 - Jan 2023\n",
    "\n",
    "__Information:__ https://community.plotly.com/t/holiday-community-app-building-challenge/70393/4\n",
    "__Data:__ https://raw.githubusercontent.com/plotly/datasets/master/telco-customer-churn-by-IBM.csv (The customer churn data was provided by [IBM](https://community.ibm.com/accelerators/?context=analytics&query=telco&type=Data) to solve business problems and predict customer churn for a fictional telecommunication company.)\n",
    "__Data description:__ https://docs.google.com/document/d/1iazD22swSw6CJAVDwkVk-Ynh-r-4meWclfQ0jVMMubU/edit?usp=sharing\n",
    "\n",
    "## Objective\n",
    "Create an app, and share it by replying to the Forum topic by midnight Saturday, January 14. \n",
    "\n",
    "Share:\n",
    "- app code\n",
    "- a link to the deployed app if possible\n",
    "\n",
    "Judging for winning apps according to the following categories:\n",
    "- Ability to provide insight on the relationship between churn and customers’ characteristics\n",
    "- App Design\n",
    "- Data exploration and data analysis routines (e.g. numerical methods, machine learning, prediction, classification, optimization)"
   ]
  }
 ],
 "metadata": {
  "kernelspec": {
   "display_name": "Python 3.10.8 ('churn_env')",
   "language": "python",
   "name": "python3"
  },
  "language_info": {
   "name": "python",
   "version": "3.10.8"
  },
  "orig_nbformat": 4,
  "vscode": {
   "interpreter": {
    "hash": "c1db6456eb633fc4d025ae1932cc239f25a81432c23f0c8747942f568530e742"
   }
  }
 },
 "nbformat": 4,
 "nbformat_minor": 2
}
